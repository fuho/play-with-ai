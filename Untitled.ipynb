{
 "cells": [
  {
   "cell_type": "code",
   "execution_count": 1,
   "id": "21afba32-14b9-4e87-a3ca-fa42ea4a19f7",
   "metadata": {},
   "outputs": [
    {
     "ename": "MemoryError",
     "evalue": "",
     "output_type": "error",
     "traceback": [
      "\u001b[0;31m---------------------------------------------------------------------------\u001b[0m",
      "\u001b[0;31mMemoryError\u001b[0m                               Traceback (most recent call last)",
      "Cell \u001b[0;32mIn[1], line 1\u001b[0m\n\u001b[0;32m----> 1\u001b[0m \u001b[38;5;28;01mimport\u001b[39;00m\u001b[38;5;250m \u001b[39m\u001b[38;5;21;01mpy5\u001b[39;00m\n",
      "File \u001b[0;32m~/PycharmProjects/play-with-ai/.venv/lib/python3.13/site-packages/py5/__init__.py:111\u001b[0m\n\u001b[1;32m    108\u001b[0m \u001b[38;5;28;01mexcept\u001b[39;00m:\n\u001b[1;32m    109\u001b[0m     started_jvm \u001b[38;5;241m=\u001b[39m \u001b[38;5;28;01mFalse\u001b[39;00m\n\u001b[0;32m--> 111\u001b[0m debug_info \u001b[38;5;241m=\u001b[39m \u001b[43mpy5_tools\u001b[49m\u001b[38;5;241;43m.\u001b[39;49m\u001b[43mget_jvm_debug_info\u001b[49m\u001b[43m(\u001b[49m\u001b[43m)\u001b[49m\n\u001b[1;32m    112\u001b[0m java_version \u001b[38;5;241m=\u001b[39m debug_info[\u001b[38;5;124m\"\u001b[39m\u001b[38;5;124mjvm version\u001b[39m\u001b[38;5;124m\"\u001b[39m][\u001b[38;5;241m0\u001b[39m]\n\u001b[1;32m    113\u001b[0m \u001b[38;5;28;01mif\u001b[39;00m \u001b[38;5;129;01mnot\u001b[39;00m started_jvm \u001b[38;5;129;01mor\u001b[39;00m java_version \u001b[38;5;241m<\u001b[39m \u001b[38;5;241m17\u001b[39m:\n",
      "File \u001b[0;32m~/PycharmProjects/play-with-ai/.venv/lib/python3.13/site-packages/py5_tools/jvm.py:169\u001b[0m, in \u001b[0;36mget_jvm_debug_info\u001b[0;34m()\u001b[0m\n\u001b[1;32m    167\u001b[0m out \u001b[38;5;241m=\u001b[39m \u001b[38;5;28mdict\u001b[39m()\n\u001b[1;32m    168\u001b[0m out[\u001b[38;5;124m\"\u001b[39m\u001b[38;5;124mJAVA_HOME environment variable\u001b[39m\u001b[38;5;124m\"\u001b[39m] \u001b[38;5;241m=\u001b[39m os\u001b[38;5;241m.\u001b[39menviron\u001b[38;5;241m.\u001b[39mget(\u001b[38;5;124m\"\u001b[39m\u001b[38;5;124mJAVA_HOME\u001b[39m\u001b[38;5;124m\"\u001b[39m, \u001b[38;5;124m\"\u001b[39m\u001b[38;5;124m<not set>\u001b[39m\u001b[38;5;124m\"\u001b[39m)\n\u001b[0;32m--> 169\u001b[0m out[\u001b[38;5;124m\"\u001b[39m\u001b[38;5;124mjvm version\u001b[39m\u001b[38;5;124m\"\u001b[39m] \u001b[38;5;241m=\u001b[39m \u001b[43mjpype\u001b[49m\u001b[38;5;241;43m.\u001b[39;49m\u001b[43mgetJVMVersion\u001b[49m\u001b[43m(\u001b[49m\u001b[43m)\u001b[49m\n\u001b[1;32m    170\u001b[0m out[\u001b[38;5;124m\"\u001b[39m\u001b[38;5;124mdefault jvm path\u001b[39m\u001b[38;5;124m\"\u001b[39m] \u001b[38;5;241m=\u001b[39m jpype\u001b[38;5;241m.\u001b[39mgetDefaultJVMPath()\n\u001b[1;32m    171\u001b[0m \u001b[38;5;28;01mreturn\u001b[39;00m out\n",
      "File \u001b[0;32m~/PycharmProjects/play-with-ai/.venv/lib/python3.13/site-packages/jpype/_core.py:467\u001b[0m, in \u001b[0;36mgetJVMVersion\u001b[0;34m()\u001b[0m\n\u001b[1;32m    464\u001b[0m     \u001b[38;5;28;01mreturn\u001b[39;00m (\u001b[38;5;241m0\u001b[39m, \u001b[38;5;241m0\u001b[39m, \u001b[38;5;241m0\u001b[39m)\n\u001b[1;32m    466\u001b[0m \u001b[38;5;28;01mimport\u001b[39;00m\u001b[38;5;250m \u001b[39m\u001b[38;5;21;01mre\u001b[39;00m\n\u001b[0;32m--> 467\u001b[0m runtime \u001b[38;5;241m=\u001b[39m \u001b[43m_jpype\u001b[49m\u001b[38;5;241;43m.\u001b[39;49m\u001b[43mJClass\u001b[49m\u001b[43m(\u001b[49m\u001b[38;5;124;43m'\u001b[39;49m\u001b[38;5;124;43mjava.lang.Runtime\u001b[39;49m\u001b[38;5;124;43m'\u001b[39;49m\u001b[43m)\u001b[49m\n\u001b[1;32m    468\u001b[0m version \u001b[38;5;241m=\u001b[39m runtime\u001b[38;5;241m.\u001b[39mclass_\u001b[38;5;241m.\u001b[39mgetPackage()\u001b[38;5;241m.\u001b[39mgetImplementationVersion()\n\u001b[1;32m    470\u001b[0m \u001b[38;5;66;03m# Java 9+ has a version method\u001b[39;00m\n",
      "File \u001b[0;32m~/PycharmProjects/play-with-ai/.venv/lib/python3.13/site-packages/jpype/_jclass.py:99\u001b[0m, in \u001b[0;36mJClass.__new__\u001b[0;34m(cls, jc, loader, initialize)\u001b[0m\n\u001b[1;32m     96\u001b[0m     \u001b[38;5;28;01mreturn\u001b[39;00m ret\n\u001b[1;32m     98\u001b[0m \u001b[38;5;66;03m# Pass to class factory to create the type\u001b[39;00m\n\u001b[0;32m---> 99\u001b[0m \u001b[38;5;28;01mreturn\u001b[39;00m \u001b[43m_jpype\u001b[49m\u001b[38;5;241;43m.\u001b[39;49m\u001b[43m_getClass\u001b[49m\u001b[43m(\u001b[49m\u001b[43mjc\u001b[49m\u001b[43m)\u001b[49m\n",
      "File \u001b[0;32m~/PycharmProjects/play-with-ai/.venv/lib/python3.13/site-packages/jpype/_jclass.py:147\u001b[0m, in \u001b[0;36m_jclassPost\u001b[0;34m(res, *args)\u001b[0m\n\u001b[1;32m    143\u001b[0m \u001b[38;5;66;03m# Attach public inner classes we find\u001b[39;00m\n\u001b[1;32m    144\u001b[0m \u001b[38;5;66;03m#   Due to bootstrapping, we must wait until java.lang.Class is defined\u001b[39;00m\n\u001b[1;32m    145\u001b[0m \u001b[38;5;66;03m#   before we can access the class structures.\u001b[39;00m\n\u001b[1;32m    146\u001b[0m \u001b[38;5;28;01mif\u001b[39;00m _jpype\u001b[38;5;241m.\u001b[39m_java_lang_Class:\n\u001b[0;32m--> 147\u001b[0m     \u001b[38;5;28;01mfor\u001b[39;00m \u001b[38;5;28mcls\u001b[39m \u001b[38;5;129;01min\u001b[39;00m \u001b[43mres\u001b[49m\u001b[38;5;241;43m.\u001b[39;49m\u001b[43mclass_\u001b[49m\u001b[38;5;241m.\u001b[39mgetDeclaredClasses():\n\u001b[1;32m    148\u001b[0m         \u001b[38;5;28;01mif\u001b[39;00m \u001b[38;5;28mcls\u001b[39m\u001b[38;5;241m.\u001b[39mgetModifiers() \u001b[38;5;241m&\u001b[39m \u001b[38;5;241m1\u001b[39m \u001b[38;5;241m==\u001b[39m \u001b[38;5;241m0\u001b[39m:\n\u001b[1;32m    149\u001b[0m             \u001b[38;5;28;01mcontinue\u001b[39;00m\n",
      "\u001b[0;31mMemoryError\u001b[0m: "
     ]
    }
   ],
   "source": [
    "import py5\n"
   ]
  },
  {
   "cell_type": "code",
   "execution_count": null,
   "id": "96358dee-9ece-4947-a7f1-9cec4c149e20",
   "metadata": {},
   "outputs": [],
   "source": []
  }
 ],
 "metadata": {
  "kernelspec": {
   "display_name": "Python 3 (ipykernel)",
   "language": "python",
   "name": "python3"
  },
  "language_info": {
   "codemirror_mode": {
    "name": "ipython",
    "version": 3
   },
   "file_extension": ".py",
   "mimetype": "text/x-python",
   "name": "python",
   "nbconvert_exporter": "python",
   "pygments_lexer": "ipython3",
   "version": "3.13.1"
  }
 },
 "nbformat": 4,
 "nbformat_minor": 5
}
